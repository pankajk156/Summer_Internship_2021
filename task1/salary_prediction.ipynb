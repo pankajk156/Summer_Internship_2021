{
 "cells": [
  {
   "cell_type": "code",
   "execution_count": 3,
   "id": "stable-computer",
   "metadata": {},
   "outputs": [
    {
     "data": {
      "text/plain": [
       "['salary_prediction.pk1']"
      ]
     },
     "execution_count": 3,
     "metadata": {},
     "output_type": "execute_result"
    }
   ],
   "source": [
    "import pandas as pd \n",
    "from sklearn.linear_model import LinearRegression \n",
    "from sklearn.model_selection import train_test_split \n",
    "from sklearn.externals import joblib\n",
    "dataset = pd.read_csv('SalaryData.csv')\n",
    "x = dataset['YearsExperience']\n",
    "x = x.values.reshape(30,1)\n",
    "y = dataset['Salary']\n",
    "model = LinearRegression()\n",
    "model.fit(x , y)\n",
    "\n",
    "#saving the model for further usage\n",
    "from sklearn.externals import joblib\n",
    "joblib.dump(model, 'salary_prediction.pk1')"
   ]
  },
  {
   "cell_type": "code",
   "execution_count": 4,
   "id": "stainless-vision",
   "metadata": {},
   "outputs": [
    {
     "name": "stdout",
     "output_type": "stream",
     "text": [
      "Enter Year of Experience : 2\n",
      "Predicted Salary :  [44692.12484158]\n"
     ]
    }
   ],
   "source": [
    "#Using the saved model for salary prediction\n",
    "\n",
    "from sklearn.externals import joblib\n",
    "salary_model=joblib.load(\"salary_prediction.pk1\")\n",
    "\n",
    "pred = int(input(\"Enter Year of Experience : \"))\n",
    "sal = model.predict([[pred]])\n",
    "print(\"Predicted Salary : \", sal )"
   ]
  },
  {
   "cell_type": "code",
   "execution_count": null,
   "id": "immediate-genre",
   "metadata": {},
   "outputs": [],
   "source": []
  },
  {
   "cell_type": "code",
   "execution_count": null,
   "id": "caring-governor",
   "metadata": {},
   "outputs": [],
   "source": []
  },
  {
   "cell_type": "code",
   "execution_count": null,
   "id": "annual-happiness",
   "metadata": {},
   "outputs": [],
   "source": []
  },
  {
   "cell_type": "code",
   "execution_count": null,
   "id": "institutional-begin",
   "metadata": {},
   "outputs": [],
   "source": []
  },
  {
   "cell_type": "code",
   "execution_count": null,
   "id": "tamil-stuart",
   "metadata": {},
   "outputs": [],
   "source": []
  },
  {
   "cell_type": "code",
   "execution_count": null,
   "id": "postal-anderson",
   "metadata": {},
   "outputs": [],
   "source": []
  },
  {
   "cell_type": "code",
   "execution_count": null,
   "id": "eight-billy",
   "metadata": {},
   "outputs": [],
   "source": []
  },
  {
   "cell_type": "code",
   "execution_count": null,
   "id": "bottom-injury",
   "metadata": {},
   "outputs": [],
   "source": []
  },
  {
   "cell_type": "code",
   "execution_count": null,
   "id": "dietary-gabriel",
   "metadata": {},
   "outputs": [],
   "source": []
  }
 ],
 "metadata": {
  "kernelspec": {
   "display_name": "Python 3",
   "language": "python",
   "name": "python3"
  },
  "language_info": {
   "codemirror_mode": {
    "name": "ipython",
    "version": 3
   },
   "file_extension": ".py",
   "mimetype": "text/x-python",
   "name": "python",
   "nbconvert_exporter": "python",
   "pygments_lexer": "ipython3",
   "version": "3.7.6"
  }
 },
 "nbformat": 4,
 "nbformat_minor": 5
}
